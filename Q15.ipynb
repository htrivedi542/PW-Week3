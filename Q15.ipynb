{
 "cells": [
  {
   "cell_type": "code",
   "execution_count": 12,
   "id": "c89207a5-6bf5-4b45-914e-44d289543bec",
   "metadata": {},
   "outputs": [],
   "source": [
    "def primes():\n",
    "   \n",
    "    yield 2\n",
    "    primeslist = [2]\n",
    "    for i in range(3, 1000):\n",
    "        primenumber = True\n",
    "        for prime in primeslist:\n",
    "            if i % prime == 0:\n",
    "                primenumber = False\n",
    "                break\n",
    "        if primenumber:\n",
    "            primeslist.append(i)\n",
    "            yield i\n",
    "\n",
    "prime_gen = primes()\n"
   ]
  },
  {
   "cell_type": "code",
   "execution_count": 13,
   "id": "4ef47065-a5fc-4d62-b2a6-a28bb6a2d440",
   "metadata": {},
   "outputs": [
    {
     "name": "stdout",
     "output_type": "stream",
     "text": [
      "2\n",
      "3\n",
      "5\n",
      "7\n",
      "11\n",
      "13\n",
      "17\n",
      "19\n",
      "23\n",
      "29\n",
      "31\n",
      "37\n",
      "41\n",
      "43\n",
      "47\n",
      "53\n",
      "59\n",
      "61\n",
      "67\n",
      "71\n"
     ]
    }
   ],
   "source": [
    "# the next() method to print the first 20 prime numbers.\n",
    "for i in range(20):\n",
    "    print(next(prime_gen))"
   ]
  }
 ],
 "metadata": {
  "kernelspec": {
   "display_name": "Python 3 (ipykernel)",
   "language": "python",
   "name": "python3"
  },
  "language_info": {
   "codemirror_mode": {
    "name": "ipython",
    "version": 3
   },
   "file_extension": ".py",
   "mimetype": "text/x-python",
   "name": "python",
   "nbconvert_exporter": "python",
   "pygments_lexer": "ipython3",
   "version": "3.10.9"
  }
 },
 "nbformat": 4,
 "nbformat_minor": 5
}
