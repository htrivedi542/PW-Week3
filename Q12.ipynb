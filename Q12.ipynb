{
 "cells": [
  {
   "cell_type": "code",
   "execution_count": 2,
   "id": "96b6ea17-01b6-41a3-aa8a-4b8e0756539a",
   "metadata": {},
   "outputs": [],
   "source": [
    "# ARGS is a type of function, it is a # , here we can pass n number of arguments or inputs in a function and it keeps data in tuples\n",
    "#args is not a keyword we can keep any word in its place\n",
    "#it gives answer in linear value\n",
    "\n",
    "def test(*args):\n",
    "    return args\n",
    "  "
   ]
  },
  {
   "cell_type": "code",
   "execution_count": 5,
   "id": "f1e85be4-08cd-432d-a829-d64339daeb73",
   "metadata": {},
   "outputs": [
    {
     "data": {
      "text/plain": [
       "tuple"
      ]
     },
     "execution_count": 5,
     "metadata": {},
     "output_type": "execute_result"
    }
   ],
   "source": [
    "type(test())"
   ]
  },
  {
   "cell_type": "code",
   "execution_count": 6,
   "id": "31a9ae86-3e7c-416d-9ffd-96058a8739bd",
   "metadata": {},
   "outputs": [
    {
     "data": {
      "text/plain": [
       "(1, 2, 3, 'harsh')"
      ]
     },
     "execution_count": 6,
     "metadata": {},
     "output_type": "execute_result"
    }
   ],
   "source": [
    "test(1,2,3,\"harsh\")"
   ]
  },
  {
   "cell_type": "code",
   "execution_count": 8,
   "id": "38448b4e-5af6-4bcb-bc03-8d062867a2c6",
   "metadata": {},
   "outputs": [],
   "source": [
    "#**kwargs. If we want answer in key value pair or in a dict form '**' is used\n",
    "\n",
    "def test1(**kwargs):\n",
    "    return kwargs"
   ]
  },
  {
   "cell_type": "code",
   "execution_count": 10,
   "id": "f28e145a-aa0f-430b-b114-6c861b2d58ba",
   "metadata": {},
   "outputs": [
    {
     "data": {
      "text/plain": [
       "{}"
      ]
     },
     "execution_count": 10,
     "metadata": {},
     "output_type": "execute_result"
    }
   ],
   "source": [
    "test1()"
   ]
  },
  {
   "cell_type": "code",
   "execution_count": 11,
   "id": "81976d57-e13f-4657-a81c-83e84e5221b9",
   "metadata": {},
   "outputs": [
    {
     "data": {
      "text/plain": [
       "dict"
      ]
     },
     "execution_count": 11,
     "metadata": {},
     "output_type": "execute_result"
    }
   ],
   "source": [
    "type(test1())"
   ]
  },
  {
   "cell_type": "code",
   "execution_count": null,
   "id": "68441548-77d6-4059-8c4b-179ff643a862",
   "metadata": {},
   "outputs": [],
   "source": [
    "test1(a= [ 1,2,3,4],\"sudh\""
   ]
  }
 ],
 "metadata": {
  "kernelspec": {
   "display_name": "Python 3 (ipykernel)",
   "language": "python",
   "name": "python3"
  },
  "language_info": {
   "codemirror_mode": {
    "name": "ipython",
    "version": 3
   },
   "file_extension": ".py",
   "mimetype": "text/x-python",
   "name": "python",
   "nbconvert_exporter": "python",
   "pygments_lexer": "ipython3",
   "version": "3.10.9"
  }
 },
 "nbformat": 4,
 "nbformat_minor": 5
}
